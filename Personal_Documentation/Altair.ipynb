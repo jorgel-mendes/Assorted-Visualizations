{
 "cells": [
  {
   "cell_type": "markdown",
   "metadata": {},
   "source": [
    "# Altair Documentation"
   ]
  },
  {
   "cell_type": "markdown",
   "metadata": {},
   "source": [
    "## Data"
   ]
  },
  {
   "cell_type": "markdown",
   "metadata": {},
   "source": [
    "### Transform"
   ]
  },
  {
   "cell_type": "markdown",
   "metadata": {},
   "source": [
    "* [Fold transform](https://altair-viz.github.io/user_guide/transform/fold.html#user-guide-fold-transform)- similar to pivot_longer in r or pivot in pandas."
   ]
  },
  {
   "cell_type": "code",
   "execution_count": 2,
   "metadata": {},
   "outputs": [
    {
     "data": {
      "text/html": [
       "\n",
       "<div id=\"altair-viz-f015693132ce4832aa6d39f73b707e54\"></div>\n",
       "<script type=\"text/javascript\">\n",
       "  (function(spec, embedOpt){\n",
       "    let outputDiv = document.currentScript.previousElementSibling;\n",
       "    if (outputDiv.id !== \"altair-viz-f015693132ce4832aa6d39f73b707e54\") {\n",
       "      outputDiv = document.getElementById(\"altair-viz-f015693132ce4832aa6d39f73b707e54\");\n",
       "    }\n",
       "    const paths = {\n",
       "      \"vega\": \"https://cdn.jsdelivr.net/npm//vega@5?noext\",\n",
       "      \"vega-lib\": \"https://cdn.jsdelivr.net/npm//vega-lib?noext\",\n",
       "      \"vega-lite\": \"https://cdn.jsdelivr.net/npm//vega-lite@4.8.1?noext\",\n",
       "      \"vega-embed\": \"https://cdn.jsdelivr.net/npm//vega-embed@6?noext\",\n",
       "    };\n",
       "\n",
       "    function loadScript(lib) {\n",
       "      return new Promise(function(resolve, reject) {\n",
       "        var s = document.createElement('script');\n",
       "        s.src = paths[lib];\n",
       "        s.async = true;\n",
       "        s.onload = () => resolve(paths[lib]);\n",
       "        s.onerror = () => reject(`Error loading script: ${paths[lib]}`);\n",
       "        document.getElementsByTagName(\"head\")[0].appendChild(s);\n",
       "      });\n",
       "    }\n",
       "\n",
       "    function showError(err) {\n",
       "      outputDiv.innerHTML = `<div class=\"error\" style=\"color:red;\">${err}</div>`;\n",
       "      throw err;\n",
       "    }\n",
       "\n",
       "    function displayChart(vegaEmbed) {\n",
       "      vegaEmbed(outputDiv, spec, embedOpt)\n",
       "        .catch(err => showError(`Javascript Error: ${err.message}<br>This usually means there's a typo in your chart specification. See the javascript console for the full traceback.`));\n",
       "    }\n",
       "\n",
       "    if(typeof define === \"function\" && define.amd) {\n",
       "      requirejs.config({paths});\n",
       "      require([\"vega-embed\"], displayChart, err => showError(`Error loading script: ${err.message}`));\n",
       "    } else if (typeof vegaEmbed === \"function\") {\n",
       "      displayChart(vegaEmbed);\n",
       "    } else {\n",
       "      loadScript(\"vega\")\n",
       "        .then(() => loadScript(\"vega-lite\"))\n",
       "        .then(() => loadScript(\"vega-embed\"))\n",
       "        .catch(showError)\n",
       "        .then(() => displayChart(vegaEmbed));\n",
       "    }\n",
       "  })({\"config\": {\"view\": {\"continuousWidth\": 400, \"continuousHeight\": 300}}, \"data\": {\"name\": \"data-323bee835559f9f913139f56468205ce\"}, \"mark\": \"line\", \"encoding\": {\"color\": {\"type\": \"nominal\", \"field\": \"key\"}, \"x\": {\"type\": \"temporal\", \"field\": \"date\"}, \"y\": {\"type\": \"quantitative\", \"field\": \"value\"}}, \"transform\": [{\"fold\": [\"A\", \"B\", \"C\"]}], \"$schema\": \"https://vega.github.io/schema/vega-lite/v4.8.1.json\", \"datasets\": {\"data-323bee835559f9f913139f56468205ce\": [{\"date\": \"2019-01-01T00:00:00\", \"A\": 1.764052345967664, \"B\": 0.1549474256969163, \"C\": -0.672460447775951}, {\"date\": \"2019-01-02T00:00:00\", \"A\": 2.1642095543348874, \"B\": 0.5331099452990898, \"C\": -1.0320136093164924}, {\"date\": \"2019-01-03T00:00:00\", \"A\": 3.1429475384406267, \"B\": -0.3546758023310229, \"C\": -1.8451598913609466}, {\"date\": \"2019-01-04T00:00:00\", \"A\": 5.3838407376420845, \"B\": -2.3354722705549498, \"C\": -3.5714424936926235}, {\"date\": \"2019-01-05T00:00:00\", \"A\": 7.251398727792052, \"B\": -2.6833844198811025, \"C\": -3.3940163514388706}, {\"date\": \"2019-01-06T00:00:00\", \"A\": 6.274120847915642, \"B\": -2.5270354507771224, \"C\": -3.7957972876471326}, {\"date\": \"2019-01-07T00:00:00\", \"A\": 7.224209265441231, \"B\": -1.2967447700494017, \"C\": -5.4259956346131775}, {\"date\": \"2019-01-08T00:00:00\", \"A\": 7.072852057143533, \"B\": -0.09436492126499041, \"C\": -4.963213379087403}, {\"date\": \"2019-01-09T00:00:00\", \"A\": 6.969633205349975, \"B\": -0.4816917386729427, \"C\": -5.8705117434706455}, {\"date\": \"2019-01-10T00:00:00\", \"A\": 7.380231707288347, \"B\": -0.7839944892482782, \"C\": -5.818566347674507}, {\"date\": \"2019-01-11T00:00:00\", \"A\": 7.524275278449225, \"B\": -1.8325474543153708, \"C\": -5.08947578549697}, {\"date\": \"2019-01-12T00:00:00\", \"A\": 8.9785487854122, \"B\": -3.252565391494346, \"C\": -4.960492874739559}, {\"date\": \"2019-01-13T00:00:00\", \"A\": 9.739586510559192, \"B\": -4.958835582119359, \"C\": -3.821092190196259}, {\"date\": \"2019-01-14T00:00:00\", \"A\": 9.86126152705202, \"B\": -3.008060186887569, \"C\": -5.055918010549911}, {\"date\": \"2019-01-15T00:00:00\", \"A\": 10.305124759797446, \"B\": -3.5177123686392227, \"C\": -4.653576369372362}, {\"date\": \"2019-01-16T00:00:00\", \"A\": 10.638799087171712, \"B\": -3.955786670250409, \"C\": -5.338386460312675}, {\"date\": \"2019-01-17T00:00:00\", \"A\": 12.132878160329318, \"B\": -5.208582030300335, \"C\": -6.2091836094945565}, {\"date\": \"2019-01-18T00:00:00\", \"A\": 11.927719896563516, \"B\": -4.4310916744684254, \"C\": -6.7880332742589715}, {\"date\": \"2019-01-19T00:00:00\", \"A\": 12.240787598214418, \"B\": -6.044989522026377, \"C\": -7.099585806386344}, {\"date\": \"2019-01-20T00:00:00\", \"A\": 11.386691858912693, \"B\": -6.257729802240346, \"C\": -7.043420464156599}, {\"date\": \"2019-01-21T00:00:00\", \"A\": 8.833702043078613, \"B\": -7.153196363434021, \"C\": -8.208570304939956}, {\"date\": \"2019-01-22T00:00:00\", \"A\": 9.487320638518973, \"B\": -6.766293865574759, \"C\": -7.307743817985768}, {\"date\": \"2019-01-23T00:00:00\", \"A\": 10.35175683737848, \"B\": -7.277099003143632, \"C\": -6.842081378255308}, {\"date\": \"2019-01-24T00:00:00\", \"A\": 9.609591816972037, \"B\": -8.457731187266043, \"C\": -8.378325064532532}, {\"date\": \"2019-01-25T00:00:00\", \"A\": 11.879346440959644, \"B\": -8.4859134156047, \"C\": -6.890072870736933}, {\"date\": \"2019-01-26T00:00:00\", \"A\": 10.424980766360878, \"B\": -8.057581545074282, \"C\": -4.99418369470635}, {\"date\": \"2019-01-27T00:00:00\", \"A\": 10.470739283662324, \"B\": -7.9910643226911136, \"C\": -3.815404123546699}, {\"date\": \"2019-01-28T00:00:00\", \"A\": 10.28355543363649, \"B\": -7.688592424951332, \"C\": -3.99532895935905}, {\"date\": \"2019-01-29T00:00:00\", \"A\": 11.816334647994948, \"B\": -8.322914518632295, \"C\": -5.066081580869593}, {\"date\": \"2019-01-30T00:00:00\", \"A\": 13.285693417895233, \"B\": -8.685655684619434, \"C\": -4.011629853938456}]}}, {\"mode\": \"vega-lite\"});\n",
       "</script>"
      ],
      "text/plain": [
       "alt.Chart(...)"
      ]
     },
     "execution_count": 2,
     "metadata": {},
     "output_type": "execute_result"
    }
   ],
   "source": [
    "import numpy as np\n",
    "import pandas as pd\n",
    "import altair as alt\n",
    "\n",
    "rand = np.random.RandomState(0)\n",
    "data = pd.DataFrame({\n",
    "    'date': pd.date_range('2019-01-01', freq='D', periods=30),\n",
    "    'A': rand.randn(30).cumsum(),\n",
    "    'B': rand.randn(30).cumsum(),\n",
    "    'C': rand.randn(30).cumsum(),\n",
    "})\n",
    "\n",
    "alt.Chart(data).transform_fold(\n",
    "    ['A', 'B', 'C'],\n",
    ").mark_line().encode(\n",
    "    x='date:T',\n",
    "    y='value:Q',\n",
    "    color='key:N'\n",
    ")"
   ]
  },
  {
   "cell_type": "markdown",
   "metadata": {},
   "source": [
    "## Encoding"
   ]
  },
  {
   "cell_type": "markdown",
   "metadata": {},
   "source": [
    "### Dates and time"
   ]
  },
  {
   "cell_type": "markdown",
   "metadata": {},
   "source": [
    "* [TimeUnit Transform](https://altair-viz.github.io/user_guide/transform/timeunit.html?highlight=timeunit) Encod data as time, as scale_\\*\\_date in ggplot. Available time units:\n",
    "\n",
    "    \"year\", \"yearquarter\", \"yearquartermonth\", \"yearmonth\", \"yearmonthdate\", \"yearmonthdatehours\", \"yearmonthdatehoursminutes\", \"yearmonthdatehoursminutesseconds\".\n",
    "    \"quarter\", \"quartermonth\"\n",
    "    \"month\", \"monthdate\"\n",
    "    \"date\" (Day of month, i.e., 1 - 31)\n",
    "    \"day\" (Day of week, i.e., Monday - Friday)\n",
    "    \"hours\", \"hoursminutes\", \"hoursminutesseconds\"\n",
    "    \"minutes\", \"minutesseconds\"\n",
    "    \"seconds\", \"secondsmilliseconds\"\n",
    "    \"milliseconds\""
   ]
  },
  {
   "cell_type": "code",
   "execution_count": 5,
   "metadata": {},
   "outputs": [
    {
     "data": {
      "text/html": [
       "\n",
       "<div id=\"altair-viz-c0ec3495bd3c4555a4ec756f82c618b0\"></div>\n",
       "<script type=\"text/javascript\">\n",
       "  (function(spec, embedOpt){\n",
       "    let outputDiv = document.currentScript.previousElementSibling;\n",
       "    if (outputDiv.id !== \"altair-viz-c0ec3495bd3c4555a4ec756f82c618b0\") {\n",
       "      outputDiv = document.getElementById(\"altair-viz-c0ec3495bd3c4555a4ec756f82c618b0\");\n",
       "    }\n",
       "    const paths = {\n",
       "      \"vega\": \"https://cdn.jsdelivr.net/npm//vega@5?noext\",\n",
       "      \"vega-lib\": \"https://cdn.jsdelivr.net/npm//vega-lib?noext\",\n",
       "      \"vega-lite\": \"https://cdn.jsdelivr.net/npm//vega-lite@4.8.1?noext\",\n",
       "      \"vega-embed\": \"https://cdn.jsdelivr.net/npm//vega-embed@6?noext\",\n",
       "    };\n",
       "\n",
       "    function loadScript(lib) {\n",
       "      return new Promise(function(resolve, reject) {\n",
       "        var s = document.createElement('script');\n",
       "        s.src = paths[lib];\n",
       "        s.async = true;\n",
       "        s.onload = () => resolve(paths[lib]);\n",
       "        s.onerror = () => reject(`Error loading script: ${paths[lib]}`);\n",
       "        document.getElementsByTagName(\"head\")[0].appendChild(s);\n",
       "      });\n",
       "    }\n",
       "\n",
       "    function showError(err) {\n",
       "      outputDiv.innerHTML = `<div class=\"error\" style=\"color:red;\">${err}</div>`;\n",
       "      throw err;\n",
       "    }\n",
       "\n",
       "    function displayChart(vegaEmbed) {\n",
       "      vegaEmbed(outputDiv, spec, embedOpt)\n",
       "        .catch(err => showError(`Javascript Error: ${err.message}<br>This usually means there's a typo in your chart specification. See the javascript console for the full traceback.`));\n",
       "    }\n",
       "\n",
       "    if(typeof define === \"function\" && define.amd) {\n",
       "      requirejs.config({paths});\n",
       "      require([\"vega-embed\"], displayChart, err => showError(`Error loading script: ${err.message}`));\n",
       "    } else if (typeof vegaEmbed === \"function\") {\n",
       "      displayChart(vegaEmbed);\n",
       "    } else {\n",
       "      loadScript(\"vega\")\n",
       "        .then(() => loadScript(\"vega-lite\"))\n",
       "        .then(() => loadScript(\"vega-embed\"))\n",
       "        .catch(showError)\n",
       "        .then(() => displayChart(vegaEmbed));\n",
       "    }\n",
       "  })({\"config\": {\"view\": {\"continuousWidth\": 400, \"continuousHeight\": 300}}, \"data\": {\"url\": \"https://vega.github.io/vega-datasets/data/seattle-temps.csv\"}, \"mark\": \"rect\", \"encoding\": {\"color\": {\"type\": \"quantitative\", \"aggregate\": \"max\", \"field\": \"temp\"}, \"x\": {\"type\": \"ordinal\", \"field\": \"date\", \"timeUnit\": \"date\", \"title\": \"day\"}, \"y\": {\"type\": \"ordinal\", \"field\": \"date\", \"timeUnit\": \"month\", \"title\": \"month\"}}, \"title\": \"2010 Daily High Temperatures in Seattle (F)\", \"$schema\": \"https://vega.github.io/schema/vega-lite/v4.8.1.json\"}, {\"mode\": \"vega-lite\"});\n",
       "</script>"
      ],
      "text/plain": [
       "alt.Chart(...)"
      ]
     },
     "execution_count": 5,
     "metadata": {},
     "output_type": "execute_result"
    }
   ],
   "source": [
    "import altair as alt\n",
    "from vega_datasets import data\n",
    "\n",
    "temps = data.seattle_temps.url\n",
    "\n",
    "alt.Chart(temps).mark_rect().encode(\n",
    "    alt.X('date(date):O', title='day'),\n",
    "    alt.Y('month(date):O', title='month'),\n",
    "    color='max(temp):Q'\n",
    ").properties(\n",
    "    title=\"2010 Daily High Temperatures in Seattle (F)\"\n",
    ")"
   ]
  },
  {
   "cell_type": "code",
   "execution_count": null,
   "metadata": {},
   "outputs": [],
   "source": []
  }
 ],
 "metadata": {
  "kernelspec": {
   "display_name": "Python 3",
   "language": "python",
   "name": "python3"
  },
  "language_info": {
   "codemirror_mode": {
    "name": "ipython",
    "version": 3
   },
   "file_extension": ".py",
   "mimetype": "text/x-python",
   "name": "python",
   "nbconvert_exporter": "python",
   "pygments_lexer": "ipython3",
   "version": "3.8.3"
  }
 },
 "nbformat": 4,
 "nbformat_minor": 4
}
