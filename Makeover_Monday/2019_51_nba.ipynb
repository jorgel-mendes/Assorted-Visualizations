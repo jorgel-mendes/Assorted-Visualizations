{
 "cells": [
  {
   "cell_type": "markdown",
   "metadata": {},
   "source": [
    "# 2019/W51: NBA Defensive Ratings\n",
    "\n",
    "Data from [here](https://data.world/makeovermonday/2019w51)\n",
    "\n",
    "# Load packages and import data"
   ]
  },
  {
   "cell_type": "code",
   "execution_count": 2,
   "metadata": {},
   "outputs": [],
   "source": [
    "import pandas as pd\n",
    "import altair as alt"
   ]
  },
  {
   "cell_type": "code",
   "execution_count": 3,
   "metadata": {},
   "outputs": [
    {
     "data": {
      "text/html": [
       "<div>\n",
       "<style scoped>\n",
       "    .dataframe tbody tr th:only-of-type {\n",
       "        vertical-align: middle;\n",
       "    }\n",
       "\n",
       "    .dataframe tbody tr th {\n",
       "        vertical-align: top;\n",
       "    }\n",
       "\n",
       "    .dataframe thead th {\n",
       "        text-align: right;\n",
       "    }\n",
       "</style>\n",
       "<table border=\"1\" class=\"dataframe\">\n",
       "  <thead>\n",
       "    <tr style=\"text-align: right;\">\n",
       "      <th></th>\n",
       "      <th>SEASON</th>\n",
       "      <th>RANK</th>\n",
       "      <th>TEAM</th>\n",
       "      <th>G</th>\n",
       "      <th>W</th>\n",
       "      <th>L</th>\n",
       "      <th>DEF RTG</th>\n",
       "      <th>RTG vs. LEAGUE AVG</th>\n",
       "    </tr>\n",
       "  </thead>\n",
       "  <tbody>\n",
       "    <tr>\n",
       "      <th>0</th>\n",
       "      <td>1996-97</td>\n",
       "      <td>1.0</td>\n",
       "      <td>Miami Heat</td>\n",
       "      <td>82.0</td>\n",
       "      <td>61.0</td>\n",
       "      <td>21.0</td>\n",
       "      <td>99.2</td>\n",
       "      <td>0.944948</td>\n",
       "    </tr>\n",
       "    <tr>\n",
       "      <th>1</th>\n",
       "      <td>1996-97</td>\n",
       "      <td>2.0</td>\n",
       "      <td>New York Knicks</td>\n",
       "      <td>82.0</td>\n",
       "      <td>57.0</td>\n",
       "      <td>25.0</td>\n",
       "      <td>99.5</td>\n",
       "      <td>0.947806</td>\n",
       "    </tr>\n",
       "    <tr>\n",
       "      <th>2</th>\n",
       "      <td>1996-97</td>\n",
       "      <td>3.0</td>\n",
       "      <td>Atlanta Hawks</td>\n",
       "      <td>82.0</td>\n",
       "      <td>56.0</td>\n",
       "      <td>26.0</td>\n",
       "      <td>100.3</td>\n",
       "      <td>0.955426</td>\n",
       "    </tr>\n",
       "    <tr>\n",
       "      <th>3</th>\n",
       "      <td>1996-97</td>\n",
       "      <td>4.0</td>\n",
       "      <td>Chicago Bulls</td>\n",
       "      <td>82.0</td>\n",
       "      <td>69.0</td>\n",
       "      <td>13.0</td>\n",
       "      <td>100.7</td>\n",
       "      <td>0.959237</td>\n",
       "    </tr>\n",
       "    <tr>\n",
       "      <th>4</th>\n",
       "      <td>1996-97</td>\n",
       "      <td>5.0</td>\n",
       "      <td>Cleveland Cavaliers</td>\n",
       "      <td>82.0</td>\n",
       "      <td>42.0</td>\n",
       "      <td>40.0</td>\n",
       "      <td>100.8</td>\n",
       "      <td>0.960189</td>\n",
       "    </tr>\n",
       "  </tbody>\n",
       "</table>\n",
       "</div>"
      ],
      "text/plain": [
       "    SEASON  RANK                 TEAM     G     W     L  DEF RTG  \\\n",
       "0  1996-97   1.0           Miami Heat  82.0  61.0  21.0     99.2   \n",
       "1  1996-97   2.0      New York Knicks  82.0  57.0  25.0     99.5   \n",
       "2  1996-97   3.0        Atlanta Hawks  82.0  56.0  26.0    100.3   \n",
       "3  1996-97   4.0        Chicago Bulls  82.0  69.0  13.0    100.7   \n",
       "4  1996-97   5.0  Cleveland Cavaliers  82.0  42.0  40.0    100.8   \n",
       "\n",
       "   RTG vs. LEAGUE AVG  \n",
       "0            0.944948  \n",
       "1            0.947806  \n",
       "2            0.955426  \n",
       "3            0.959237  \n",
       "4            0.960189  "
      ]
     },
     "execution_count": 3,
     "metadata": {},
     "output_type": "execute_result"
    }
   ],
   "source": [
    "df = pd.read_csv('https://query.data.world/s/fca6mx4ahx5hkutczjghdpnze7uwa7')\n",
    "#df = pd.read_csv('https://query.data.world/s/n3pj6omagl3flwxbzs6mblkjroi45y', sep='\\t', \n",
    "#                 thousands=',', encoding='utf_16_le')\n",
    "df.head()"
   ]
  },
  {
   "cell_type": "markdown",
   "metadata": {},
   "source": [
    "Yesinfer_objectsept for the current one, 2019. \n",
    "\n",
    "And a quick `describe`."
   ]
  },
  {
   "cell_type": "code",
   "execution_count": 21,
   "metadata": {},
   "outputs": [
    {
     "data": {
      "text/plain": [
       "SEASON                 object\n",
       "RANK                  float64\n",
       "TEAM                   object\n",
       "G                     float64\n",
       "W                     float64\n",
       "L                     float64\n",
       "DEF RTG               float64\n",
       "RTG vs. LEAGUE AVG    float64\n",
       "dtype: object"
      ]
     },
     "execution_count": 21,
     "metadata": {},
     "output_type": "execute_result"
    }
   ],
   "source": [
    "df.dtypes"
   ]
  },
  {
   "cell_type": "markdown",
   "metadata": {},
   "source": [
    "Some numeric values are not in the right type. So I'll take a look and transform them."
   ]
  },
  {
   "cell_type": "markdown",
   "metadata": {},
   "source": [
    "One value has a `$` that is impeding the transformation to numeric. I'll fix this and alo some other changes to make the data looks better in the plot and creating a new column to see proportion as "
   ]
  },
  {
   "cell_type": "code",
   "execution_count": 6,
   "metadata": {},
   "outputs": [
    {
     "data": {
      "text/plain": [
       "Year                            datetime64[ns]\n",
       "Months                                   int64\n",
       "Visitor Volume                           int64\n",
       "Convention Attendance                    int64\n",
       "Room Inventory                           int64\n",
       "Midweek Occupancy Percentage           float64\n",
       "Weekend Occupancy Percentage           float64\n",
       "Overall Occupancy Percentage           float64\n",
       "LVCVA Room Tax Collections             float64\n",
       "En/Deplaned Air Passenger                int64\n",
       "Clark County Gaming Revenue              int64\n",
       "Proportion                             float64\n",
       "dtype: object"
      ]
     },
     "execution_count": 6,
     "metadata": {},
     "output_type": "execute_result"
    }
   ],
   "source": [
    "df_clean = df.copy()\n",
    "df_clean['Clark County Gaming Revenue'] = pd.to_numeric(df_clean['Clark County Gaming Revenue'].str.replace('[,$]',''),\n",
    "                                                       downcast='integer')\n",
    "df_clean['Midweek Occupancy Percentage'] = pd.to_numeric(df_clean['Midweek Occupancy Percentage'].str.replace('%',''))\n",
    "df_clean['Weekend Occupancy Percentage'] = pd.to_numeric(df_clean['Weekend Occupancy Percentage'].str.replace('%',''))\n",
    "df_clean['Overall Occupancy Percentage'] = pd.to_numeric(df_clean['Overall Occupancy Percentage'].str.replace('%',''))\n",
    "\n",
    "#Create new column\n",
    "df_clean['Proportion'] = df_clean['Convention Attendance']/df_clean['Visitor Volume']\n",
    "df_clean['Year'] = pd.to_datetime(df_clean['Year'], format='%Y')\n",
    "\n",
    "df_clean.dtypes"
   ]
  },
  {
   "cell_type": "markdown",
   "metadata": {},
   "source": [
    "So the values are now in the correct format. Let's see if there are `NAs` and make the visualization."
   ]
  },
  {
   "cell_type": "code",
   "execution_count": 7,
   "metadata": {},
   "outputs": [
    {
     "data": {
      "text/plain": [
       "Year                             0\n",
       "Months                           0\n",
       "Visitor Volume                   0\n",
       "Convention Attendance            0\n",
       "Room Inventory                   0\n",
       "Midweek Occupancy Percentage    13\n",
       "Weekend Occupancy Percentage    13\n",
       "Overall Occupancy Percentage     0\n",
       "LVCVA Room Tax Collections       1\n",
       "En/Deplaned Air Passenger        0\n",
       "Clark County Gaming Revenue      0\n",
       "Proportion                       0\n",
       "dtype: int64"
      ]
     },
     "execution_count": 7,
     "metadata": {},
     "output_type": "execute_result"
    }
   ],
   "source": [
    "df_clean.isnull().sum()"
   ]
  },
  {
   "cell_type": "markdown",
   "metadata": {},
   "source": [
    "Three variables have NA values but I'll redo the original plot with two plots."
   ]
  },
  {
   "cell_type": "code",
   "execution_count": 18,
   "metadata": {},
   "outputs": [
    {
     "data": {
      "application/vnd.vegalite.v3+json": {
       "$schema": "https://vega.github.io/schema/vega-lite/v3.4.0.json",
       "config": {
        "axis": {
         "domain": false,
         "grid": false,
         "labelColor": "dimgray",
         "titleColor": "dimgray",
         "titleFontSize": 13,
         "titleFontWeight": "normal"
        },
        "background": "Snow",
        "mark": {
         "tooltip": null
        },
        "title": {
         "anchor": "middle",
         "color": "darkslategray",
         "fontSize": 15
        },
        "view": {
         "height": 300,
         "strokeWidth": 0,
         "width": 400
        }
       },
       "data": {
        "name": "data-271204d0ee93e75baddc369f949e4d49"
       },
       "datasets": {
        "data-271204d0ee93e75baddc369f949e4d49": [
         {
          "Clark County Gaming Revenue": 369286977,
          "Convention Attendance": 269129,
          "En/Deplaned Air Passenger": 4086973,
          "LVCVA Room Tax Collections": 3751265,
          "Midweek Occupancy Percentage": null,
          "Months": 12,
          "Overall Occupancy Percentage": 68,
          "Proportion": 0.03964980516084359,
          "Room Inventory": 25430,
          "Visitor Volume": 6787650,
          "Weekend Occupancy Percentage": null,
          "Year": "1970-01-01T00:00:00"
         },
         {
          "Clark County Gaming Revenue": 399410972,
          "Convention Attendance": 312347,
          "En/Deplaned Air Passenger": 4102285,
          "LVCVA Room Tax Collections": 4241630,
          "Midweek Occupancy Percentage": null,
          "Months": 12,
          "Overall Occupancy Percentage": 78.3,
          "Proportion": 0.04242817263154863,
          "Room Inventory": 26044,
          "Visitor Volume": 7361783,
          "Weekend Occupancy Percentage": null,
          "Year": "1971-01-01T00:00:00"
         },
         {
          "Clark County Gaming Revenue": 476126720,
          "Convention Attendance": 290794,
          "En/Deplaned Air Passenger": 4608764,
          "LVCVA Room Tax Collections": 4770716,
          "Midweek Occupancy Percentage": null,
          "Months": 12,
          "Overall Occupancy Percentage": 81.2,
          "Proportion": 0.036556029179051305,
          "Room Inventory": 26619,
          "Visitor Volume": 7954748,
          "Weekend Occupancy Percentage": null,
          "Year": "1972-01-01T00:00:00"
         },
         {
          "Clark County Gaming Revenue": 588221779,
          "Convention Attendance": 357248,
          "En/Deplaned Air Passenger": 5397017,
          "LVCVA Room Tax Collections": 5556312,
          "Midweek Occupancy Percentage": null,
          "Months": 12,
          "Overall Occupancy Percentage": 84.4,
          "Proportion": 0.04215451423980973,
          "Room Inventory": 29198,
          "Visitor Volume": 8474727,
          "Weekend Occupancy Percentage": null,
          "Year": "1973-01-01T00:00:00"
         },
         {
          "Clark County Gaming Revenue": 684714502,
          "Convention Attendance": 311908,
          "En/Deplaned Air Passenger": 5944433,
          "LVCVA Room Tax Collections": 6559315,
          "Midweek Occupancy Percentage": null,
          "Months": 12,
          "Overall Occupancy Percentage": 78.7,
          "Proportion": 0.03599734141234988,
          "Room Inventory": 32826,
          "Visitor Volume": 8664751,
          "Weekend Occupancy Percentage": null,
          "Year": "1974-01-01T00:00:00"
         },
         {
          "Clark County Gaming Revenue": 770336695,
          "Convention Attendance": 349787,
          "En/Deplaned Air Passenger": 6500806,
          "LVCVA Room Tax Collections": 7616661,
          "Midweek Occupancy Percentage": null,
          "Months": 12,
          "Overall Occupancy Percentage": 79.5,
          "Proportion": 0.03822212645088029,
          "Room Inventory": 35190,
          "Visitor Volume": 9151427,
          "Weekend Occupancy Percentage": null,
          "Year": "1975-01-01T00:00:00"
         },
         {
          "Clark County Gaming Revenue": 845975652,
          "Convention Attendance": 367322,
          "En/Deplaned Air Passenger": 7685817,
          "LVCVA Room Tax Collections": 8890463,
          "Midweek Occupancy Percentage": null,
          "Months": 12,
          "Overall Occupancy Percentage": 82,
          "Proportion": 0.037599415478239404,
          "Room Inventory": 36245,
          "Visitor Volume": 9769354,
          "Weekend Occupancy Percentage": null,
          "Year": "1976-01-01T00:00:00"
         },
         {
          "Clark County Gaming Revenue": 1015463342,
          "Convention Attendance": 417090,
          "En/Deplaned Air Passenger": 7964687,
          "LVCVA Room Tax Collections": 10383259,
          "Midweek Occupancy Percentage": null,
          "Months": 12,
          "Overall Occupancy Percentage": 80.8,
          "Proportion": 0.04114522402587506,
          "Room Inventory": 39350,
          "Visitor Volume": 10137021,
          "Weekend Occupancy Percentage": null,
          "Year": "1977-01-01T00:00:00"
         },
         {
          "Clark County Gaming Revenue": 1236235456,
          "Convention Attendance": 607318,
          "En/Deplaned Air Passenger": 9110842,
          "LVCVA Room Tax Collections": 13113511,
          "Midweek Occupancy Percentage": null,
          "Months": 12,
          "Overall Occupancy Percentage": 82,
          "Proportion": 0.054331004585658524,
          "Room Inventory": 42620,
          "Visitor Volume": 11178111,
          "Weekend Occupancy Percentage": null,
          "Year": "1978-01-01T00:00:00"
         },
         {
          "Clark County Gaming Revenue": 1423620102,
          "Convention Attendance": 637862,
          "En/Deplaned Air Passenger": 10574127,
          "LVCVA Room Tax Collections": 15847040,
          "Midweek Occupancy Percentage": null,
          "Months": 12,
          "Overall Occupancy Percentage": 80.9,
          "Proportion": 0.054536424319513055,
          "Room Inventory": 45035,
          "Visitor Volume": 11696073,
          "Weekend Occupancy Percentage": null,
          "Year": "1979-01-01T00:00:00"
         },
         {
          "Clark County Gaming Revenue": 1617194799,
          "Convention Attendance": 656024,
          "En/Deplaned Air Passenger": 10302106,
          "LVCVA Room Tax Collections": 18231548,
          "Midweek Occupancy Percentage": null,
          "Months": 12,
          "Overall Occupancy Percentage": 77.2,
          "Proportion": 0.05493637160550027,
          "Room Inventory": 45815,
          "Visitor Volume": 11941524,
          "Weekend Occupancy Percentage": null,
          "Year": "1980-01-01T00:00:00"
         },
         {
          "Clark County Gaming Revenue": 1676148606,
          "Convention Attendance": 719988,
          "En/Deplaned Air Passenger": 9469727,
          "LVCVA Room Tax Collections": 18179761,
          "Midweek Occupancy Percentage": null,
          "Months": 12,
          "Overall Occupancy Percentage": 75.7,
          "Proportion": 0.060908629780011284,
          "Room Inventory": 49614,
          "Visitor Volume": 11820788,
          "Weekend Occupancy Percentage": null,
          "Year": "1981-01-01T00:00:00"
         },
         {
          "Clark County Gaming Revenue": 1751421394,
          "Convention Attendance": 809779,
          "En/Deplaned Air Passenger": 9438648,
          "LVCVA Room Tax Collections": 19070664,
          "Midweek Occupancy Percentage": null,
          "Months": 12,
          "Overall Occupancy Percentage": 70.3,
          "Proportion": 0.06960614860515907,
          "Room Inventory": 50270,
          "Visitor Volume": 11633728,
          "Weekend Occupancy Percentage": null,
          "Year": "1982-01-01T00:00:00"
         },
         {
          "Clark County Gaming Revenue": 1887451717,
          "Convention Attendance": 943611,
          "En/Deplaned Air Passenger": 10312842,
          "LVCVA Room Tax Collections": 21731353,
          "Midweek Occupancy Percentage": 67.1,
          "Months": 12,
          "Overall Occupancy Percentage": 72.6,
          "Proportion": 0.07641645347890838,
          "Room Inventory": 52529,
          "Visitor Volume": 12348270,
          "Weekend Occupancy Percentage": 86.9,
          "Year": "1983-01-01T00:00:00"
         },
         {
          "Clark County Gaming Revenue": 2008155460,
          "Convention Attendance": 1050916,
          "En/Deplaned Air Passenger": 10141809,
          "LVCVA Room Tax Collections": 23921313,
          "Midweek Occupancy Percentage": 66.4,
          "Months": 12,
          "Overall Occupancy Percentage": 72.5,
          "Proportion": 0.08182516310086252,
          "Room Inventory": 54129,
          "Visitor Volume": 12843433,
          "Weekend Occupancy Percentage": 88.3,
          "Year": "1984-01-01T00:00:00"
         },
         {
          "Clark County Gaming Revenue": 2256762736,
          "Convention Attendance": 1072629,
          "En/Deplaned Air Passenger": 10924047,
          "LVCVA Room Tax Collections": 26956881,
          "Midweek Occupancy Percentage": 74.7,
          "Months": 12,
          "Overall Occupancy Percentage": 79.8,
          "Proportion": 0.07556817793535087,
          "Room Inventory": 53067,
          "Visitor Volume": 14194189,
          "Weekend Occupancy Percentage": 93,
          "Year": "1985-01-01T00:00:00"
         },
         {
          "Clark County Gaming Revenue": 2431237168,
          "Convention Attendance": 1519421,
          "En/Deplaned Air Passenger": 12428748,
          "LVCVA Room Tax Collections": 30587141,
          "Midweek Occupancy Percentage": 76.8,
          "Months": 12,
          "Overall Occupancy Percentage": 81.4,
          "Proportion": 0.0999863519265631,
          "Room Inventory": 56494,
          "Visitor Volume": 15196284,
          "Weekend Occupancy Percentage": 93.5,
          "Year": "1986-01-01T00:00:00"
         },
         {
          "Clark County Gaming Revenue": 2789336000,
          "Convention Attendance": 1677716,
          "En/Deplaned Air Passenger": 15582302,
          "LVCVA Room Tax Collections": 34443765,
          "Midweek Occupancy Percentage": 79.2,
          "Months": 12,
          "Overall Occupancy Percentage": 83.4,
          "Proportion": 0.10345988203576914,
          "Room Inventory": 58474,
          "Visitor Volume": 16216102,
          "Weekend Occupancy Percentage": 94.5,
          "Year": "1987-01-01T00:00:00"
         },
         {
          "Clark County Gaming Revenue": 3136901000,
          "Convention Attendance": 1702158,
          "En/Deplaned Air Passenger": 16231199,
          "LVCVA Room Tax Collections": 38175535,
          "Midweek Occupancy Percentage": 81.4,
          "Months": 12,
          "Overall Occupancy Percentage": 85.1,
          "Proportion": 0.09896377913055773,
          "Room Inventory": 61394,
          "Visitor Volume": 17199808,
          "Weekend Occupancy Percentage": 93.5,
          "Year": "1988-01-01T00:00:00"
         },
         {
          "Clark County Gaming Revenue": 3430851000,
          "Convention Attendance": 1508842,
          "En/Deplaned Air Passenger": 17106948,
          "LVCVA Room Tax Collections": 40528245,
          "Midweek Occupancy Percentage": 81.6,
          "Months": 12,
          "Overall Occupancy Percentage": 85.2,
          "Proportion": 0.08322494755010622,
          "Room Inventory": 67391,
          "Visitor Volume": 18129684,
          "Weekend Occupancy Percentage": 94,
          "Year": "1989-01-01T00:00:00"
         },
         {
          "Clark County Gaming Revenue": 4104001000,
          "Convention Attendance": 1742194,
          "En/Deplaned Air Passenger": 19089684,
          "LVCVA Room Tax Collections": 49493569,
          "Midweek Occupancy Percentage": 80.9,
          "Months": 12,
          "Overall Occupancy Percentage": 84.7,
          "Proportion": 0.0831420769460572,
          "Room Inventory": 73730,
          "Visitor Volume": 20954420,
          "Weekend Occupancy Percentage": 93.6,
          "Year": "1990-01-01T00:00:00"
         },
         {
          "Clark County Gaming Revenue": 4152407000,
          "Convention Attendance": 1794444,
          "En/Deplaned Air Passenger": 20171969,
          "LVCVA Room Tax Collections": 49396226,
          "Midweek Occupancy Percentage": 76,
          "Months": 12,
          "Overall Occupancy Percentage": 80.3,
          "Proportion": 0.08418645246875504,
          "Room Inventory": 76879,
          "Visitor Volume": 21315116,
          "Weekend Occupancy Percentage": 89.8,
          "Year": "1991-01-01T00:00:00"
         },
         {
          "Clark County Gaming Revenue": 4381710000,
          "Convention Attendance": 1969435,
          "En/Deplaned Air Passenger": 20912585,
          "LVCVA Room Tax Collections": 52259477,
          "Midweek Occupancy Percentage": 80.4,
          "Months": 12,
          "Overall Occupancy Percentage": 83.9,
          "Proportion": 0.08998250777349794,
          "Room Inventory": 76523,
          "Visitor Volume": 21886865,
          "Weekend Occupancy Percentage": 92,
          "Year": "1992-01-01T00:00:00"
         },
         {
          "Clark County Gaming Revenue": 4727424000,
          "Convention Attendance": 2439734,
          "En/Deplaned Air Passenger": 22492156,
          "LVCVA Room Tax Collections": 56125234,
          "Midweek Occupancy Percentage": 84.6,
          "Months": 12,
          "Overall Occupancy Percentage": 87.6,
          "Proportion": 0.10371875243515882,
          "Room Inventory": 86053,
          "Visitor Volume": 23522593,
          "Weekend Occupancy Percentage": 94.2,
          "Year": "1993-01-01T00:00:00"
         },
         {
          "Clark County Gaming Revenue": 5430651000,
          "Convention Attendance": 2684171,
          "En/Deplaned Air Passenger": 26850486,
          "LVCVA Room Tax Collections": 76876787,
          "Midweek Occupancy Percentage": 86.5,
          "Months": 12,
          "Overall Occupancy Percentage": 89,
          "Proportion": 0.09513491745799534,
          "Room Inventory": 88560,
          "Visitor Volume": 28214362,
          "Weekend Occupancy Percentage": 94.4,
          "Year": "1994-01-01T00:00:00"
         },
         {
          "Clark County Gaming Revenue": 5717567000,
          "Convention Attendance": 2924879,
          "En/Deplaned Air Passenger": 28027239,
          "LVCVA Room Tax Collections": 82135745,
          "Midweek Occupancy Percentage": 85.6,
          "Months": 12,
          "Overall Occupancy Percentage": 88,
          "Proportion": 0.10085051707595741,
          "Room Inventory": 90046,
          "Visitor Volume": 29002122,
          "Weekend Occupancy Percentage": 93.5,
          "Year": "1995-01-01T00:00:00"
         },
         {
          "Clark County Gaming Revenue": 5783735000,
          "Convention Attendance": 3305507,
          "En/Deplaned Air Passenger": 30459965,
          "LVCVA Room Tax Collections": 91565876,
          "Midweek Occupancy Percentage": 88.7,
          "Months": 12,
          "Overall Occupancy Percentage": 90.4,
          "Proportion": 0.11153552219181026,
          "Room Inventory": 99072,
          "Visitor Volume": 29636361,
          "Weekend Occupancy Percentage": 94.4,
          "Year": "1996-01-01T00:00:00"
         },
         {
          "Clark County Gaming Revenue": 6152415000,
          "Convention Attendance": 3519424,
          "En/Deplaned Air Passenger": 30315094,
          "LVCVA Room Tax Collections": 98186440,
          "Midweek Occupancy Percentage": 84.1,
          "Months": 12,
          "Overall Occupancy Percentage": 86.4,
          "Proportion": 0.11552490289150026,
          "Room Inventory": 105347,
          "Visitor Volume": 30464635,
          "Weekend Occupancy Percentage": 91.6,
          "Year": "1997-01-01T00:00:00"
         },
         {
          "Clark County Gaming Revenue": 6346958000,
          "Convention Attendance": 3301705,
          "En/Deplaned Air Passenger": 30227287,
          "LVCVA Room Tax Collections": 100468931,
          "Midweek Occupancy Percentage": 83,
          "Months": 12,
          "Overall Occupancy Percentage": 85.8,
          "Proportion": 0.10788077736515267,
          "Room Inventory": 109365,
          "Visitor Volume": 30605128,
          "Weekend Occupancy Percentage": 92.1,
          "Year": "1998-01-01T00:00:00"
         },
         {
          "Clark County Gaming Revenue": 7210700000,
          "Convention Attendance": 3772726,
          "En/Deplaned Air Passenger": 33715129,
          "LVCVA Room Tax Collections": 118299856,
          "Midweek Occupancy Percentage": 85.6,
          "Months": 12,
          "Overall Occupancy Percentage": 88,
          "Proportion": 0.11158895699605911,
          "Room Inventory": 120294,
          "Visitor Volume": 33809134,
          "Weekend Occupancy Percentage": 93.5,
          "Year": "1999-01-01T00:00:00"
         },
         {
          "Clark County Gaming Revenue": 7671252000,
          "Convention Attendance": 3853363,
          "En/Deplaned Air Passenger": 36865866,
          "LVCVA Room Tax Collections": 130550852,
          "Midweek Occupancy Percentage": 86.6,
          "Months": 12,
          "Overall Occupancy Percentage": 89.1,
          "Proportion": 0.10748664472449707,
          "Room Inventory": 124270,
          "Visitor Volume": 35849691,
          "Weekend Occupancy Percentage": 94.5,
          "Year": "2000-01-01T00:00:00"
         },
         {
          "Clark County Gaming Revenue": 7636547000,
          "Convention Attendance": 5014240,
          "En/Deplaned Air Passenger": 35179960,
          "LVCVA Room Tax Collections": 129053244,
          "Midweek Occupancy Percentage": 81.6,
          "Months": 12,
          "Overall Occupancy Percentage": 84.7,
          "Proportion": 0.14319315211956415,
          "Room Inventory": 126610,
          "Visitor Volume": 35017317,
          "Weekend Occupancy Percentage": 91.7,
          "Year": "2001-01-01T00:00:00"
         },
         {
          "Clark County Gaming Revenue": 7630562000,
          "Convention Attendance": 5105450,
          "En/Deplaned Air Passenger": 35009011,
          "LVCVA Room Tax Collections": 127102165,
          "Midweek Occupancy Percentage": 80.9,
          "Months": 12,
          "Overall Occupancy Percentage": 84,
          "Proportion": 0.145572599338768,
          "Room Inventory": 126787,
          "Visitor Volume": 35071504,
          "Weekend Occupancy Percentage": 91.2,
          "Year": "2002-01-01T00:00:00"
         },
         {
          "Clark County Gaming Revenue": 7830856000,
          "Convention Attendance": 5657796,
          "En/Deplaned Air Passenger": 36265932,
          "LVCVA Room Tax Collections": 138941106,
          "Midweek Occupancy Percentage": 81.6,
          "Months": 12,
          "Overall Occupancy Percentage": 85,
          "Proportion": 0.15919459598989605,
          "Room Inventory": 130482,
          "Visitor Volume": 35540126,
          "Weekend Occupancy Percentage": 92.8,
          "Year": "2003-01-01T00:00:00"
         },
         {
          "Clark County Gaming Revenue": 8711426000,
          "Convention Attendance": 5724864,
          "En/Deplaned Air Passenger": 41441531,
          "LVCVA Room Tax Collections": 164821755,
          "Midweek Occupancy Percentage": 85.8,
          "Months": 12,
          "Overall Occupancy Percentage": 88.6,
          "Proportion": 0.15311716100078257,
          "Room Inventory": 131503,
          "Visitor Volume": 37388781,
          "Weekend Occupancy Percentage": 95,
          "Year": "2004-01-01T00:00:00"
         },
         {
          "Clark County Gaming Revenue": 9717322000,
          "Convention Attendance": 6166194,
          "En/Deplaned Air Passenger": 44267370,
          "LVCVA Room Tax Collections": 193136789,
          "Midweek Occupancy Percentage": 86.6,
          "Months": 12,
          "Overall Occupancy Percentage": 89.2,
          "Proportion": 0.15988381899346008,
          "Room Inventory": 133186,
          "Visitor Volume": 38566717,
          "Weekend Occupancy Percentage": 95,
          "Year": "2005-01-01T00:00:00"
         },
         {
          "Clark County Gaming Revenue": 10630387000,
          "Convention Attendance": 6307961,
          "En/Deplaned Air Passenger": 46304376,
          "LVCVA Room Tax Collections": 207289931,
          "Midweek Occupancy Percentage": 87.4,
          "Months": 12,
          "Overall Occupancy Percentage": 89.7,
          "Proportion": 0.16209633798518608,
          "Room Inventory": 132605,
          "Visitor Volume": 38914889,
          "Weekend Occupancy Percentage": 94.6,
          "Year": "2006-01-01T00:00:00"
         },
         {
          "Clark County Gaming Revenue": 10868464000,
          "Convention Attendance": 6209253,
          "En/Deplaned Air Passenger": 47729527,
          "LVCVA Room Tax Collections": 219713911,
          "Midweek Occupancy Percentage": 88.7,
          "Months": 12,
          "Overall Occupancy Percentage": 90.4,
          "Proportion": 0.1584124004531905,
          "Room Inventory": 132947,
          "Visitor Volume": 39196761,
          "Weekend Occupancy Percentage": 94.3,
          "Year": "2007-01-01T00:00:00"
         },
         {
          "Clark County Gaming Revenue": 9796749000,
          "Convention Attendance": 5899725,
          "En/Deplaned Air Passenger": 44074642,
          "LVCVA Room Tax Collections": 207117817,
          "Midweek Occupancy Percentage": 84.3,
          "Months": 12,
          "Overall Occupancy Percentage": 86,
          "Proportion": 0.1574034340947248,
          "Room Inventory": 140529,
          "Visitor Volume": 37481552,
          "Weekend Occupancy Percentage": 89.8,
          "Year": "2008-01-01T00:00:00"
         },
         {
          "Clark County Gaming Revenue": 8838261000,
          "Convention Attendance": 4492275,
          "En/Deplaned Air Passenger": 40469012,
          "LVCVA Room Tax Collections": 153150310,
          "Midweek Occupancy Percentage": 78.2,
          "Months": 12,
          "Overall Occupancy Percentage": 81.5,
          "Proportion": 0.12357891231300722,
          "Room Inventory": 148941,
          "Visitor Volume": 36351469,
          "Weekend Occupancy Percentage": 88.8,
          "Year": "2009-01-01T00:00:00"
         },
         {
          "Clark County Gaming Revenue": 8908574000,
          "Convention Attendance": 4473134,
          "En/Deplaned Air Passenger": 39757359,
          "LVCVA Room Tax Collections": 163809985,
          "Midweek Occupancy Percentage": 76.8,
          "Months": 12,
          "Overall Occupancy Percentage": 80.4,
          "Proportion": 0.11980934145244748,
          "Room Inventory": 148935,
          "Visitor Volume": 37335436,
          "Weekend Occupancy Percentage": 88.4,
          "Year": "2010-01-01T00:00:00"
         },
         {
          "Clark County Gaming Revenue": 9222677000,
          "Convention Attendance": 4865272,
          "En/Deplaned Air Passenger": 41481204,
          "LVCVA Room Tax Collections": 194329584,
          "Midweek Occupancy Percentage": 80.7,
          "Months": 12,
          "Overall Occupancy Percentage": 83.8,
          "Proportion": 0.12497902576165641,
          "Room Inventory": 150161,
          "Visitor Volume": 38928708,
          "Weekend Occupancy Percentage": 90.9,
          "Year": "2011-01-01T00:00:00"
         },
         {
          "Clark County Gaming Revenue": 9399845000,
          "Convention Attendance": 4944014,
          "En/Deplaned Air Passenger": 41667596,
          "LVCVA Room Tax Collections": 200384250,
          "Midweek Occupancy Percentage": 81.6,
          "Months": 12,
          "Overall Occupancy Percentage": 84.4,
          "Proportion": 0.12444965041678684,
          "Room Inventory": 150481,
          "Visitor Volume": 39727022,
          "Weekend Occupancy Percentage": 90.8,
          "Year": "2012-01-01T00:00:00"
         },
         {
          "Clark County Gaming Revenue": 9674404000,
          "Convention Attendance": 5107416,
          "En/Deplaned Air Passenger": 41857059,
          "LVCVA Room Tax Collections": 210138974,
          "Midweek Occupancy Percentage": 81.4,
          "Months": 12,
          "Overall Occupancy Percentage": 84.3,
          "Proportion": 0.12875334137116964,
          "Room Inventory": 150593,
          "Visitor Volume": 39668221,
          "Weekend Occupancy Percentage": 91.1,
          "Year": "2013-01-01T00:00:00"
         },
         {
          "Clark County Gaming Revenue": 9553864000,
          "Convention Attendance": 5194580,
          "En/Deplaned Air Passenger": 42885350,
          "LVCVA Room Tax Collections": 232443537,
          "Midweek Occupancy Percentage": 83.9,
          "Months": 12,
          "Overall Occupancy Percentage": 86.8,
          "Proportion": 0.12630733187390167,
          "Room Inventory": 150544,
          "Visitor Volume": 41126512,
          "Weekend Occupancy Percentage": 93.3,
          "Year": "2014-01-01T00:00:00"
         },
         {
          "Clark County Gaming Revenue": 9617671000,
          "Convention Attendance": 5891151,
          "En/Deplaned Air Passenger": 45389074,
          "LVCVA Room Tax Collections": 254438208,
          "Midweek Occupancy Percentage": 85.2,
          "Months": 12,
          "Overall Occupancy Percentage": 87.7,
          "Proportion": 0.13923050024134873,
          "Room Inventory": 149213,
          "Visitor Volume": 42312216,
          "Weekend Occupancy Percentage": 93.7,
          "Year": "2015-01-01T00:00:00"
         },
         {
          "Clark County Gaming Revenue": 9713930000,
          "Convention Attendance": 6310600,
          "En/Deplaned Air Passenger": 47435027,
          "LVCVA Room Tax Collections": 273079478,
          "Midweek Occupancy Percentage": 86.5,
          "Months": 12,
          "Overall Occupancy Percentage": 89.1,
          "Proportion": 0.1469765535295474,
          "Room Inventory": 149339,
          "Visitor Volume": 42936100,
          "Weekend Occupancy Percentage": 95,
          "Year": "2016-01-01T00:00:00"
         },
         {
          "Clark County Gaming Revenue": 9978503000,
          "Convention Attendance": 6646200,
          "En/Deplaned Air Passenger": 48500244,
          "LVCVA Room Tax Collections": 282497037,
          "Midweek Occupancy Percentage": 86.2,
          "Months": 12,
          "Overall Occupancy Percentage": 88.7,
          "Proportion": 0.1574399135835809,
          "Room Inventory": 148896,
          "Visitor Volume": 42214200,
          "Weekend Occupancy Percentage": 94.3,
          "Year": "2017-01-01T00:00:00"
         },
         {
          "Clark County Gaming Revenue": 10249964000,
          "Convention Attendance": 6501800,
          "En/Deplaned Air Passenger": 49716584,
          "LVCVA Room Tax Collections": 282596040,
          "Midweek Occupancy Percentage": 85.5,
          "Months": 12,
          "Overall Occupancy Percentage": 88.2,
          "Proportion": 0.15437545112639137,
          "Room Inventory": 149158,
          "Visitor Volume": 42116800,
          "Weekend Occupancy Percentage": 94.5,
          "Year": "2018-01-01T00:00:00"
         },
         {
          "Clark County Gaming Revenue": 7753090000,
          "Convention Attendance": 5164500,
          "En/Deplaned Air Passenger": 38500861,
          "LVCVA Room Tax Collections": null,
          "Midweek Occupancy Percentage": 86.7,
          "Months": 10,
          "Overall Occupancy Percentage": 89.2,
          "Proportion": 0.16199710164929956,
          "Room Inventory": 149050,
          "Visitor Volume": 31880200,
          "Weekend Occupancy Percentage": 95.1,
          "Year": "2019-01-01T00:00:00"
         }
        ]
       },
       "hconcat": [
        {
         "vconcat": [
          {
           "encoding": {
            "color": {
             "condition": {
              "selection": "selector010",
              "value": "darkblue"
             },
             "value": "gray"
            },
            "tooltip": {
             "field": "Year",
             "timeUnit": "year",
             "type": "nominal"
            },
            "x": {
             "field": "Year",
             "title": null,
             "type": "temporal"
            },
            "y": {
             "axis": {
              "format": "~s"
             },
             "field": "Convention Attendance",
             "title": "Number of attendees",
             "type": "quantitative"
            }
           },
           "height": 93.33333333333333,
           "mark": {
            "point": true,
            "size": 3,
            "type": "line"
           },
           "selection": {
            "selector010": {
             "empty": "all",
             "encodings": [
              "x"
             ],
             "type": "interval"
            }
           },
           "title": "Convention Attendance",
           "width": 400
          },
          {
           "encoding": {
            "color": {
             "condition": {
              "selection": "selector010",
              "value": "darkblue"
             },
             "value": "gray"
            },
            "tooltip": {
             "field": "Year",
             "timeUnit": "year",
             "type": "nominal"
            },
            "x": {
             "field": "Year",
             "title": null,
             "type": "temporal"
            },
            "y": {
             "axis": {
              "format": "~s"
             },
             "field": "Visitor Volume",
             "title": "Number of visitors",
             "type": "quantitative"
            }
           },
           "height": 300,
           "mark": {
            "point": true,
            "size": 3,
            "type": "line"
           },
           "selection": {
            "selector010": {
             "empty": "all",
             "encodings": [
              "x"
             ],
             "type": "interval"
            }
           },
           "title": "Visitor Volume",
           "width": 400
          }
         ]
        },
        {
         "vconcat": [
          {
           "encoding": {
            "color": {
             "condition": {
              "selection": "selector010",
              "value": "darkblue"
             },
             "value": "gray"
            },
            "tooltip": {
             "field": "Year",
             "timeUnit": "year",
             "type": "nominal"
            },
            "x": {
             "field": "Year",
             "title": null,
             "type": "temporal"
            },
            "y": {
             "axis": {
              "format": "%"
             },
             "field": "Proportion",
             "title": null,
             "type": "quantitative"
            }
           },
           "height": 93.33333333333333,
           "mark": "bar",
           "selection": {
            "selector010": {
             "empty": "all",
             "encodings": [
              "x"
             ],
             "type": "interval"
            }
           },
           "title": "Share of Visitors from Conventions",
           "width": 400
          },
          {
           "encoding": {
            "color": {
             "condition": {
              "selection": "selector010",
              "value": "darkgreen"
             },
             "value": "gray"
            },
            "tooltip": {
             "field": "Year",
             "timeUnit": "year",
             "type": "nominal"
            },
            "x": {
             "field": "Year",
             "title": null,
             "type": "temporal"
            },
            "y": {
             "axis": {
              "format": "~s"
             },
             "field": "Clark County Gaming Revenue",
             "title": "Dollars",
             "type": "quantitative"
            }
           },
           "height": 300,
           "mark": {
            "point": true,
            "size": 3,
            "type": "line"
           },
           "selection": {
            "selector010": {
             "empty": "all",
             "encodings": [
              "x"
             ],
             "type": "interval"
            }
           },
           "title": "Clark County Gaming Revenue",
           "width": 400
          }
         ]
        }
       ],
       "title": "Las Vegas Visitors Info 1979 - 2019(October)"
      },
      "image/png": "[encoded data removed]",
      "text/plain": [
       "<VegaLite 3 object>\n",
       "\n",
       "If you see this message, it means the renderer has not been properly enabled\n",
       "for the frontend that you are using. For more information, see\n",
       "https://altair-viz.github.io/user_guide/troubleshooting.html\n"
      ]
     },
     "execution_count": 18,
     "metadata": {},
     "output_type": "execute_result"
    }
   ],
   "source": [
    "brush = alt.selection_interval(encodings=['x'],empty='all')\n",
    "\n",
    "base_line_bar = alt.Chart(df_clean).encode(\n",
    "    x=alt.X('Year', title=None),\n",
    "    color=alt.condition(brush, alt.ColorValue('darkblue'), alt.ColorValue('gray')),\n",
    "    tooltip=alt.Tooltip('year(Year):N')\n",
    ").add_selection(\n",
    "    brush\n",
    ")\n",
    "\n",
    "#Convention line/scatter\n",
    "chart_convention = base_line_bar.mark_line(point=True, size=3).encode( \n",
    "    y=alt.Y('Convention Attendance', title='Number of attendees',\n",
    "           axis=alt.Axis(format='~s'))\n",
    ").properties(\n",
    "    title='Convention Attendance',\n",
    "    width=400,\n",
    "    height=300*14/45\n",
    ") \n",
    "\n",
    "#Visitor line/scatter\n",
    "chart_visitors = base_line_bar.mark_line(point=True, size=3).encode( \n",
    "    y=alt.Y('Visitor Volume', title='Number of visitors',\n",
    "           axis=alt.Axis(format='~s'))\n",
    ").properties(\n",
    "    title='Visitor Volume',\n",
    "    width=400,\n",
    "    height=300\n",
    ")\n",
    "\n",
    "#Conventionas proportion of total visitors\n",
    "chart_proportion = base_line_bar.mark_bar().encode(\n",
    "    y=alt.Y('Proportion', title=None,\n",
    "           axis=alt.Axis(format='%'))\n",
    ").properties(\n",
    "    title='Share of Visitors from Conventions',\n",
    "    width=400,\n",
    "    height=300*14/45\n",
    ") \n",
    "\n",
    "#Gaming Spending\n",
    "chart_spending = base_line_bar.mark_line(\n",
    "    point=True, size=3\n",
    ").encode(\n",
    "    y=alt.Y('Clark County Gaming Revenue', title='Dollars',\n",
    "           axis=alt.Axis(format='~s')),\n",
    "    color=alt.condition(brush, alt.ColorValue('darkgreen'), alt.ColorValue('gray'))\n",
    ").properties(\n",
    "    title='Clark County Gaming Revenue',\n",
    "    width=400,\n",
    "    height=300\n",
    ")\n",
    "\n",
    "final_chart = (\n",
    "    (\n",
    "        chart_convention & chart_visitors\n",
    "    ) | (\n",
    "        chart_proportion & chart_spending\n",
    "    )\n",
    ").properties(\n",
    "    title = 'Las Vegas Visitors Info 1979 - 2019(October)'\n",
    ").configure(\n",
    "    background='Snow'\n",
    ").configure_axis(\n",
    "    grid=False,\n",
    "    domain=False,\n",
    "    titleFontSize=13,\n",
    "    titleFontWeight='normal',\n",
    "    titleColor='dimgray',\n",
    "    labelColor='dimgray'\n",
    ").configure_view(\n",
    "    strokeWidth=0\n",
    ").configure_title(\n",
    "    fontSize=15,\n",
    "    anchor='middle',\n",
    "    color='darkslategray'\n",
    ")\n",
    "\n",
    "final_chart.save(\"../docs/assets/images/2019_11_04_MM.png\")\n",
    "final_chart.save('2019_11_04_MM.html')\n",
    "final_chart"
   ]
  },
  {
   "cell_type": "markdown",
   "metadata": {},
   "source": [
    "Command to write the markdown used to make the site version easier. \n",
    "\n",
    "`jupyter nbconvert --to markdown 2019_45_lasvegas.ipynb`"
   ]
  }
 ],
 "metadata": {
  "kernelspec": {
   "display_name": "Python 3",
   "language": "python",
   "name": "python3"
  },
  "language_info": {
   "codemirror_mode": {
    "name": "ipython",
    "version": 3
   },
   "file_extension": ".py",
   "mimetype": "text/x-python",
   "name": "python",
   "nbconvert_exporter": "python",
   "pygments_lexer": "ipython3",
   "version": "3.8.3"
  }
 },
 "nbformat": 4,
 "nbformat_minor": 4
}
